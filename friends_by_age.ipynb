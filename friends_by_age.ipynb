{
 "cells": [
  {
   "cell_type": "code",
   "execution_count": 4,
   "metadata": {
    "collapsed": true
   },
   "outputs": [],
   "source": [
    "from pyspark import SparkConf, SparkContext\n",
    "sc.stop()"
   ]
  },
  {
   "cell_type": "code",
   "execution_count": 5,
   "metadata": {},
   "outputs": [],
   "source": [
    "conf = SparkConf().setMaster(\"local\").setAppName(\"FriendsByAge\")\n",
    "sc = SparkContext(conf = conf)"
   ]
  },
  {
   "cell_type": "code",
   "execution_count": 1,
   "metadata": {
    "collapsed": true
   },
   "outputs": [],
   "source": [
    "file = 'C:/Users/Machine/MachineLearning/Spark/ip_files/fakefriends.csv'"
   ]
  },
  {
   "cell_type": "code",
   "execution_count": 6,
   "metadata": {
    "collapsed": true
   },
   "outputs": [],
   "source": [
    "def parseLine(line):\n",
    "    fields = line.split(',')\n",
    "    age = int(fields[2])\n",
    "    numFriends = int(fields[3])\n",
    "    return (age, numFriends)"
   ]
  },
  {
   "cell_type": "code",
   "execution_count": 25,
   "metadata": {},
   "outputs": [],
   "source": [
    "lines = sc.textFile(file)\n",
    "rdd = lines.map(parseLine)\n",
    "totalsByAge = rdd.mapValues(lambda x: (x, 1)).reduceByKey(lambda x, y: (x[0]+y[0], x[1]+y[1]))\n",
    "averagesByAge = totalsByAge.mapValues(lambda x: int(x[0]/x[1]))\n",
    "results = averagesByAge.collect()"
   ]
  },
  {
   "cell_type": "code",
   "execution_count": 26,
   "metadata": {},
   "outputs": [
    {
     "name": "stdout",
     "output_type": "stream",
     "text": [
      "(33, 325)\n",
      "(26, 242)\n",
      "(55, 295)\n",
      "(40, 250)\n",
      "(68, 269)\n",
      "(59, 220)\n",
      "(37, 249)\n",
      "(54, 278)\n",
      "(38, 193)\n",
      "(27, 228)\n",
      "(53, 222)\n",
      "(57, 258)\n",
      "(56, 306)\n",
      "(43, 230)\n",
      "(36, 246)\n",
      "(22, 206)\n",
      "(35, 211)\n",
      "(45, 309)\n",
      "(60, 202)\n",
      "(67, 214)\n",
      "(19, 213)\n",
      "(30, 235)\n",
      "(51, 302)\n",
      "(25, 197)\n",
      "(21, 350)\n",
      "(42, 303)\n",
      "(49, 184)\n",
      "(48, 281)\n",
      "(50, 254)\n",
      "(39, 169)\n",
      "(32, 207)\n",
      "(58, 116)\n",
      "(64, 281)\n",
      "(31, 267)\n",
      "(52, 340)\n",
      "(24, 233)\n",
      "(20, 165)\n",
      "(62, 220)\n",
      "(41, 268)\n",
      "(44, 282)\n",
      "(69, 235)\n",
      "(65, 298)\n",
      "(61, 256)\n",
      "(28, 209)\n",
      "(66, 276)\n",
      "(46, 223)\n",
      "(29, 215)\n",
      "(18, 343)\n",
      "(47, 233)\n",
      "(34, 245)\n",
      "(63, 384)\n",
      "(23, 246)\n"
     ]
    }
   ],
   "source": [
    "for result in results:\n",
    "    print(result)"
   ]
  },
  {
   "cell_type": "code",
   "execution_count": 27,
   "metadata": {},
   "outputs": [],
   "source": [
    "sc.stop()"
   ]
  },
  {
   "cell_type": "code",
   "execution_count": null,
   "metadata": {
    "collapsed": true
   },
   "outputs": [],
   "source": []
  }
 ],
 "metadata": {
  "kernelspec": {
   "display_name": "Python 3",
   "language": "python",
   "name": "python3"
  },
  "language_info": {
   "codemirror_mode": {
    "name": "ipython",
    "version": 3
   },
   "file_extension": ".py",
   "mimetype": "text/x-python",
   "name": "python",
   "nbconvert_exporter": "python",
   "pygments_lexer": "ipython3",
   "version": "3.6.1"
  }
 },
 "nbformat": 4,
 "nbformat_minor": 2
}
